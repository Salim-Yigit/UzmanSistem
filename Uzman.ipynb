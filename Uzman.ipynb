{
 "cells": [
  {
   "cell_type": "code",
   "execution_count": 17,
   "id": "044bbf38-74f4-43cf-b299-eb5accad7516",
   "metadata": {},
   "outputs": [],
   "source": [
    "import pandas as pd\n",
    "import pickle \n",
    "import warnings \n",
    "import seaborn as sns\n",
    "import matplotlib.pyplot as plt\n",
    "warnings.simplefilter(\"ignore\") \n",
    "from sklearn.metrics import accuracy_score, classification_report, confusion_matrix \n",
    "from sklearn.metrics import accuracy_score, precision_score, recall_score, f1_score, roc_auc_score"
   ]
  },
  {
   "cell_type": "code",
   "execution_count": 18,
   "id": "44f38f5e-d2f3-4b67-b92a-82a54ca38762",
   "metadata": {},
   "outputs": [],
   "source": [
    "with open(\"amazonlogistic\",\"rb\") as file: \n",
    "    model = pickle.load(file)"
   ]
  },
  {
   "cell_type": "code",
   "execution_count": 19,
   "id": "46f72208-9b93-4feb-b93a-1db2fdc3fb51",
   "metadata": {},
   "outputs": [],
   "source": [
    "pipeline=model"
   ]
  },
  {
   "cell_type": "code",
   "execution_count": 20,
   "id": "e8a79d36-1c9b-4bcd-afdf-61bb00411a9a",
   "metadata": {},
   "outputs": [],
   "source": [
    "def tahmin(text):   \n",
    "    value = pipeline.predict_proba(text) \n",
    "    return value"
   ]
  },
  {
   "cell_type": "code",
   "execution_count": 21,
   "id": "ba130335-a17c-450a-bd85-72445b916746",
   "metadata": {},
   "outputs": [],
   "source": [
    "def predict(text,threshold=0.68): \n",
    "    val = tahmin([text])  \n",
    "    #print(val)\n",
    "    if(val[0][1]>=threshold): \n",
    "        print(\"POSITIVE\") \n",
    "    else: \n",
    "        print(\"NEGATIVE\")  "
   ]
  },
  {
   "cell_type": "code",
   "execution_count": 22,
   "id": "db424130-2543-4174-a1bd-0686838ae75a",
   "metadata": {},
   "outputs": [],
   "source": [
    "def redefine_threshold(pipeline,X_test,threshold=0.68):  \n",
    "    y_pred = pipeline.predict_proba(X_test)\n",
    "    tmp = []\n",
    "    for i in range(len(X_test)): \n",
    "        if(y_pred[i][1] >= threshold): \n",
    "            tmp.append(1) \n",
    "        else: \n",
    "            tmp.append(0) \n",
    "            \n",
    "    return tmp"
   ]
  },
  {
   "cell_type": "code",
   "execution_count": 23,
   "id": "0b6a1ccd-4dc8-44d7-afc2-dcdb08409893",
   "metadata": {},
   "outputs": [
    {
     "name": "stdout",
     "output_type": "stream",
     "text": [
      "NEGATIVE\n"
     ]
    }
   ],
   "source": [
    "predict(\"Your food is really bad\")"
   ]
  },
  {
   "cell_type": "code",
   "execution_count": 24,
   "id": "9584817e-49ad-477e-8608-f5ed209c1aa5",
   "metadata": {},
   "outputs": [],
   "source": [
    "df = pd.read_csv(\"test_100\")"
   ]
  },
  {
   "cell_type": "code",
   "execution_count": 25,
   "id": "2dde115d-7c07-4615-bf9e-92bb2494e98c",
   "metadata": {},
   "outputs": [],
   "source": [
    "y_test = df[\"score\"]"
   ]
  },
  {
   "cell_type": "code",
   "execution_count": 26,
   "id": "9a509268-cd7b-416f-b3b3-f0c4849eba41",
   "metadata": {},
   "outputs": [],
   "source": [
    "x = df[\"text\"]"
   ]
  },
  {
   "cell_type": "code",
   "execution_count": 27,
   "id": "8bad8db7-d42d-4473-8db5-9c39dba05881",
   "metadata": {},
   "outputs": [],
   "source": [
    "y_pred = model.predict(x)"
   ]
  },
  {
   "cell_type": "code",
   "execution_count": 28,
   "id": "92a9d707-4d1b-4883-8b03-e6720bb978f1",
   "metadata": {},
   "outputs": [
    {
     "name": "stdout",
     "output_type": "stream",
     "text": [
      "              precision    recall  f1-score   support\n",
      "\n",
      "           0       0.75      0.26      0.39        34\n",
      "           1       0.72      0.95      0.82        66\n",
      "\n",
      "    accuracy                           0.72       100\n",
      "   macro avg       0.73      0.61      0.60       100\n",
      "weighted avg       0.73      0.72      0.67       100\n",
      "\n"
     ]
    },
    {
     "data": {
      "image/png": "[encoded data removed]",
      "text/plain": [
       "<Figure size 432x288 with 2 Axes>"
      ]
     },
     "metadata": {
      "needs_background": "light"
     },
     "output_type": "display_data"
    }
   ],
   "source": [
    "print(classification_report(y_test, y_pred))\n",
    "\n",
    "fig = sns.heatmap(confusion_matrix(y_test, y_pred), \n",
    "            annot=True, fmt='.0f', \n",
    "            xticklabels=['Predicted negative', 'Predicted positive'], \n",
    "            yticklabels=['Negative', 'Positive'])  \n",
    "\n",
    "plt.show()"
   ]
  },
  {
   "cell_type": "code",
   "execution_count": 25,
   "id": "d09adf2c-c169-4378-95ac-3243ac4c6968",
   "metadata": {},
   "outputs": [
    {
     "name": "stdout",
     "output_type": "stream",
     "text": [
      "Accuracy: 0.72\n",
      "Recall: 0.72\n",
      "Precision: 0.95\n",
      "F1: 0.82\n",
      "Auc: 0.73\n"
     ]
    }
   ],
   "source": [
    "print(f\"Accuracy: {round(accuracy_score(y_pred, y_test), 2)}\")\n",
    "print(f\"Recall: {round(recall_score(y_pred,y_test),2)}\")\n",
    "print(f\"Precision: {round(precision_score(y_pred,y_test), 2)}\")\n",
    "print(f\"F1: {round(f1_score(y_pred,y_test), 2)}\")\n",
    "print(f\"Auc: {round(roc_auc_score(y_pred,y_test), 2)}\")"
   ]
  },
  {
   "cell_type": "code",
   "execution_count": null,
   "id": "6cc2198b-dd38-4a35-bce7-b432c271d18b",
   "metadata": {},
   "outputs": [],
   "source": []
  }
 ],
 "metadata": {
  "kernelspec": {
   "display_name": "Python 3",
   "language": "python",
   "name": "python3"
  },
  "language_info": {
   "codemirror_mode": {
    "name": "ipython",
    "version": 3
   },
   "file_extension": ".py",
   "mimetype": "text/x-python",
   "name": "python",
   "nbconvert_exporter": "python",
   "pygments_lexer": "ipython3",
   "version": "3.8.8"
  }
 },
 "nbformat": 4,
 "nbformat_minor": 5
}
